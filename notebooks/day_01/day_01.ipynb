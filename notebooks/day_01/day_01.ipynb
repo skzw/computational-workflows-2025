{
 "cells": [
  {
   "cell_type": "markdown",
   "metadata": {},
   "source": [
    "# Computational Workflows for biomedical data"
   ]
  },
  {
   "cell_type": "markdown",
   "metadata": {},
   "source": [
    "Welcome to the course Computational Workflows for Biomedical Data. Over the next two weeks, you will learn how to leverage nf-core pipelines to analyze biomedical data and gain hands-on experience in creating your own pipelines, with a strong emphasis on Nextflow and nf-core.\n",
    "\n",
    "Course Structure:\n",
    "\n",
    "- Week 1: You will use a variety of nf-core pipelines to analyze a publicly available biomedical study.\n",
    "- Week 2: We will shift focus to learning the basics of Nextflow, enabling you to design and implement your own computational workflows.<br>\n",
    "- Final Project: The last couple of days, you will apply your knowledge to create a custom pipeline for analyzing biomedical data using Nextflow and the nf-core template."
   ]
  },
  {
   "cell_type": "markdown",
   "metadata": {},
   "source": [
    "## Basics\n",
    "\n",
    "If you have not installed all required software, please do so now asap!\n",
    "\n",
    "\n",
    "If you already installed all software, please go on and start answering the questions in this notebook. If you have any questions, don't hesitate to approach us."
   ]
  },
  {
   "cell_type": "markdown",
   "metadata": {},
   "source": [
    "1. What is nf-core?"
   ]
  },
  {
   "cell_type": "markdown",
   "source": [
    "Community effort that aims at collecting a set of high-quality bioinformatics pipelines that were built using Nextflow. Provides templates & additional tools."
   ],
   "metadata": {
    "collapsed": false
   }
  },
  {
   "cell_type": "markdown",
   "source": [],
   "metadata": {
    "collapsed": false
   }
  },
  {
   "cell_type": "markdown",
   "metadata": {
    "vscode": {
     "languageId": "plaintext"
    }
   },
   "source": []
  },
  {
   "cell_type": "markdown",
   "metadata": {},
   "source": [
    "2. How many pipelines are there currently in nf-core?"
   ]
  },
  {
   "cell_type": "markdown",
   "metadata": {},
   "source": [
    "139 pipelines are currently available."
   ]
  },
  {
   "cell_type": "markdown",
   "metadata": {},
   "source": [
    "3. Are there any non-bioinformatic pipelines in nf-core?"
   ]
  },
  {
   "cell_type": "markdown",
   "metadata": {},
   "source": [
    "No."
   ]
  },
  {
   "cell_type": "markdown",
   "metadata": {},
   "source": [
    "4. Let's go back a couple of steps. What is a pipeline and what do we use it for?"
   ]
  },
  {
   "cell_type": "markdown",
   "metadata": {},
   "source": [
    "A set of data processing steps where the output of one step serves as the input to the next step. Can be used to analyze data in a reproducible manner."
   ]
  },
  {
   "cell_type": "markdown",
   "metadata": {},
   "source": [
    "5. Why do you think nf-core adheres to strict guidelines?"
   ]
  },
  {
   "cell_type": "markdown",
   "metadata": {},
   "source": [
    "In order to ensure high quality and reproducibility of the pipelines."
   ]
  },
  {
   "cell_type": "markdown",
   "metadata": {
    "vscode": {
     "languageId": "plaintext"
    }
   },
   "source": [
    "6. What are the main features of nf-core pipelines?"
   ]
  },
  {
   "cell_type": "markdown",
   "metadata": {},
   "source": [
    "base templates, github support, "
   ]
  },
  {
   "cell_type": "markdown",
   "metadata": {
    "vscode": {
     "languageId": "plaintext"
    }
   },
   "source": [
    "## Let's start using the pipelines"
   ]
  },
  {
   "cell_type": "markdown",
   "metadata": {},
   "source": [
    "1. Find the nf-core pipeline used to measure differential abundance of genes"
   ]
  },
  {
   "cell_type": "markdown",
   "metadata": {},
   "source": []
  },
  {
   "cell_type": "code",
   "execution_count": null,
   "metadata": {
    "is_executing": true
   },
   "outputs": [],
   "source": [
    "# run the pipeline in a cell \n",
    "# to run bash in jupyter notebooks, simply use ! before the command\n",
    "# e.g.\n",
    "\n",
    "!pwd\n",
    "# For the tasks in the first week, please use the command line to run your commands and simply paste the commands you used in the respective cells!\n"
   ]
  },
  {
   "cell_type": "code",
   "execution_count": 1,
   "metadata": {
    "ExecuteTime": {
     "end_time": "2025-09-29T10:08:22.685279Z",
     "start_time": "2025-09-29T10:07:05.378748Z"
    }
   },
   "outputs": [
    {
     "name": "stdout",
     "output_type": "stream",
     "text": [
      "\u001B[33mNextflow 25.04.7 is available - Please consider updating your version to it\u001B[m\r\n",
      "\r\n",
      "\u001B[1m\u001B[38;5;232m\u001B[48;5;43m N E X T F L O W \u001B[0;2m  ~  \u001B[mversion 24.10.5\u001B[m\r\n",
      "\u001B[K\r\n",
      "Launching\u001B[35m `https://github.com/nf-core/differentialabundance` \u001B[0;2m[\u001B[0;1;36mpedantic_mandelbrot\u001B[0;2m] DSL2 - \u001B[36mrevision: \u001B[0;36m3dd360fed0 [1.5.0]\u001B[m\r\n",
      "\u001B[K\r\n",
      "\u001B[33mWARN: Access to undefined parameter `monochromeLogs` -- Initialise it to a default value eg. `params.monochromeLogs = some_value`\u001B[39m\u001B[K\r\n",
      "\r\n",
      "\r\n",
      "-\u001B[2m----------------------------------------------------\u001B[0m-\r\n",
      "                                        \u001B[0;32m,--.\u001B[0;30m/\u001B[0;32m,-.\u001B[0m\r\n",
      "\u001B[0;34m        ___     __   __   __   ___     \u001B[0;32m/,-._.--~'\u001B[0m\r\n",
      "\u001B[0;34m  |\\ | |__  __ /  ` /  \\ |__) |__         \u001B[0;33m}  {\u001B[0m\r\n",
      "\u001B[0;34m  | \\| |       \\__, \\__/ |  \\ |___     \u001B[0;32m\\`-._,-`-,\u001B[0m\r\n",
      "                                        \u001B[0;32m`._,._,'\u001B[0m\r\n",
      "\u001B[0;35m  nf-core/differentialabundance v1.5.0-g3dd360f\u001B[0m\r\n",
      "-\u001B[2m----------------------------------------------------\u001B[0m-\r\n",
      "\u001B[1mCore Nextflow options\u001B[0m\r\n",
      "  \u001B[0;34mrevision                    : \u001B[0;32m1.5.0\u001B[0m\r\n",
      "  \u001B[0;34mrunName                     : \u001B[0;32mpedantic_mandelbrot\u001B[0m\r\n",
      "  \u001B[0;34mcontainerEngine             : \u001B[0;32mdocker\u001B[0m\r\n",
      "  \u001B[0;34mcontainer                   : \u001B[0;32m[RMARKDOWNNOTEBOOK:biocontainers/r-shinyngs:1.8.8--r43hdfd78af_0]\u001B[0m\r\n",
      "  \u001B[0;34mlaunchDir                   : \u001B[0;32m/Users/leo/PycharmProjects/Computational_Workflows/computational-workflows-2025/notebooks/day_01\u001B[0m\r\n",
      "  \u001B[0;34mworkDir                     : \u001B[0;32m/Users/leo/PycharmProjects/Computational_Workflows/computational-workflows-2025/notebooks/day_01/work\u001B[0m\r\n",
      "  \u001B[0;34mprojectDir                  : \u001B[0;32m/Users/leo/.nextflow/assets/nf-core/differentialabundance\u001B[0m\r\n",
      "  \u001B[0;34muserName                    : \u001B[0;32mleo\u001B[0m\r\n",
      "  \u001B[0;34mprofile                     : \u001B[0;32mtest,docker\u001B[0m\r\n",
      "  \u001B[0;34mconfigFiles                 : \u001B[0;32m\u001B[0m\r\n",
      "\r\n",
      "\u001B[1mInput/output options\u001B[0m\r\n",
      "  \u001B[0;34mstudy_name                  : \u001B[0;32mSRP254919\u001B[0m\r\n",
      "  \u001B[0;34minput                       : \u001B[0;32mhttps://raw.githubusercontent.com/nf-core/test-datasets/modules/data/genomics/mus_musculus/rnaseq_expression/SRP254919.samplesheet.csv\u001B[0m\r\n",
      "  \u001B[0;34mcontrasts                   : \u001B[0;32mhttps://raw.githubusercontent.com/nf-core/test-datasets/modules/data/genomics/mus_musculus/rnaseq_expression/SRP254919.contrasts.csv\u001B[0m\r\n",
      "  \u001B[0;34moutdir                      : \u001B[0;32mday01_results_2\u001B[0m\r\n",
      "\r\n",
      "\u001B[1mAbundance values\u001B[0m\r\n",
      "  \u001B[0;34mmatrix                      : \u001B[0;32mhttps://raw.githubusercontent.com/nf-core/test-datasets/modules/data/genomics/mus_musculus/rnaseq_expression/SRP254919.salmon.merged.gene_counts.top1000cov.tsv\u001B[0m\r\n",
      "  \u001B[0;34mtranscript_length_matrix    : \u001B[0;32mhttps://raw.githubusercontent.com/nf-core/test-datasets/modules/data/genomics/mus_musculus/rnaseq_expression/SRP254919.spoofed_lengths.tsv\u001B[0m\r\n",
      "  \u001B[0;34maffy_cel_files_archive      : \u001B[0;32mnull\u001B[0m\r\n",
      "  \u001B[0;34mquerygse                    : \u001B[0;32mnull\u001B[0m\r\n",
      "\r\n",
      "\u001B[1mObservations (e.g. samples) options\u001B[0m\r\n",
      "  \u001B[0;34mobservations_name_col       : \u001B[0;32msample\u001B[0m\r\n",
      "\r\n",
      "\u001B[1mAffy input options\u001B[0m\r\n",
      "  \u001B[0;34maffy_cdfname                : \u001B[0;32mnull\u001B[0m\r\n",
      "\r\n",
      "\u001B[1mFiltering\u001B[0m\r\n",
      "  \u001B[0;34mfiltering_min_abundance     : \u001B[0;32m10\u001B[0m\r\n",
      "\r\n",
      "\u001B[1mExploratory analysis\u001B[0m\r\n",
      "  \u001B[0;34mexploratory_main_variable   : \u001B[0;32mcontrasts\u001B[0m\r\n",
      "  \u001B[0;34mexploratory_log2_assays     : \u001B[0;32mraw,normalised\u001B[0m\r\n",
      "\r\n",
      "\u001B[1mDifferential analysis\u001B[0m\r\n",
      "  \u001B[0;34mdifferential_file_suffix    : \u001B[0;32m.deseq2.results.tsv\u001B[0m\r\n",
      "\r\n",
      "\u001B[1mDESeq2 specific options (RNA-seq only)\u001B[0m\r\n",
      "  \u001B[0;34mdeseq2_vst_nsub             : \u001B[0;32m500\u001B[0m\r\n",
      "\r\n",
      "\u001B[1mLimma specific options (microarray only)\u001B[0m\r\n",
      "  \u001B[0;34mlimma_spacing               : \u001B[0;32mnull\u001B[0m\r\n",
      "  \u001B[0;34mlimma_block                 : \u001B[0;32mnull\u001B[0m\r\n",
      "  \u001B[0;34mlimma_correlation           : \u001B[0;32mnull\u001B[0m\r\n",
      "\r\n",
      "\u001B[1mGSEA\u001B[0m\r\n",
      "  \u001B[0;34mgsea_run                    : \u001B[0;32mtrue\u001B[0m\r\n",
      "\r\n",
      "\u001B[1mgprofiler2\u001B[0m\r\n",
      "  \u001B[0;34mgprofiler2_correction_method: \u001B[0;32mgSCS\u001B[0m\r\n",
      "  \u001B[0;34mgprofiler2_background_file  : \u001B[0;32mauto\u001B[0m\r\n",
      "\r\n",
      "\u001B[1mShiny app settings\u001B[0m\r\n",
      "  \u001B[0;34mshinyngs_shinyapps_account  : \u001B[0;32mnull\u001B[0m\r\n",
      "  \u001B[0;34mshinyngs_shinyapps_app_name : \u001B[0;32mnull\u001B[0m\r\n",
      "\r\n",
      "\u001B[1mOptions related to gene set analysis\u001B[0m\r\n",
      "  \u001B[0;34mgene_sets_files             : \u001B[0;32mhttps://raw.githubusercontent.com/nf-core/test-datasets/modules/data/genomics/mus_musculus/gene_set_analysis/mh.all.v2022.1.Mm.symbols.gmt\u001B[0m\r\n",
      "\r\n",
      "\u001B[1mReporting options\u001B[0m\r\n",
      "  \u001B[0;34mreport_title                : \u001B[0;32mnull\u001B[0m\r\n",
      "  \u001B[0;34mreport_author               : \u001B[0;32mnull\u001B[0m\r\n",
      "  \u001B[0;34mreport_contributors         : \u001B[0;32mJane Doe\r\n",
      "Director of Institute of Microbiology\r\n",
      "University of Smallville;John Smith\r\n",
      "PhD student\r\n",
      "Institute of Microbiology\r\n",
      "University of Smallville\u001B[0m\r\n",
      "  \u001B[0;34mreport_description          : \u001B[0;32mnull\u001B[0m\r\n",
      "  \u001B[0;34mreport_round_digits         : \u001B[0;32m3\u001B[0m\r\n",
      "\r\n",
      "\u001B[1mReference genome options\u001B[0m\r\n",
      "  \u001B[0;34mgtf                         : \u001B[0;32mhttps://ftp.ensembl.org/pub/release-81/gtf/mus_musculus/Mus_musculus.GRCm38.81.gtf.gz\u001B[0m\r\n",
      "\r\n",
      "\u001B[1mInstitutional config options\u001B[0m\r\n",
      "  \u001B[0;34mconfig_profile_name         : \u001B[0;32mTest profile\u001B[0m\r\n",
      "  \u001B[0;34mconfig_profile_description  : \u001B[0;32mMinimal test dataset to check pipeline function\u001B[0m\r\n",
      "\r\n",
      "\u001B[1mMax job request options\u001B[0m\r\n",
      "  \u001B[0;34mmax_cpus                    : \u001B[0;32m2\u001B[0m\r\n",
      "  \u001B[0;34mmax_memory                  : \u001B[0;32m6.GB\u001B[0m\r\n",
      "  \u001B[0;34mmax_time                    : \u001B[0;32m6.h\u001B[0m\r\n",
      "\r\n",
      "!! Only displaying parameters that differ from the pipeline defaults !!\r\n",
      "-\u001B[2m----------------------------------------------------\u001B[0m-\r\n",
      "If you use nf-core/differentialabundance for your analysis please cite:\r\n",
      "\r\n",
      "* The pipeline\r\n",
      "  https://doi.org/10.5281/zenodo.7568000\r\n",
      "\r\n",
      "* The nf-core framework\r\n",
      "  https://doi.org/10.1038/s41587-020-0439-x\r\n",
      "\r\n",
      "* Software dependencies\r\n",
      "  https://github.com/nf-core/differentialabundance/blob/master/CITATIONS.md\r\n",
      "-\u001B[2m----------------------------------------------------\u001B[0m-\r\n",
      "\u001B[2m[\u001B[0;34m-        \u001B[0;2m] \u001B[0;2mNFC…ENTIALABUNDANCE:\u001B[mGUNZIP_GTF -\u001B[K\r\n",
      "\u001B[2m[\u001B[0;34m-        \u001B[0;2m] \u001B[0;2mNFC…TIALABUNDANCE:\u001B[mGTF_TO_TABLE -\u001B[K\r\n",
      "\u001B[3A\r\n",
      "\u001B[2m[\u001B[0;34m-        \u001B[0;2m] \u001B[0;2mNFC…ENTIALABUNDANCE:\u001B[mGUNZIP_GTF -\u001B[K\r\n",
      "\u001B[2m[\u001B[0;34m-        \u001B[0;2m] \u001B[0;2mNFC…TIALABUNDANCE:\u001B[mGTF_TO_TABLE -\u001B[K\r\n",
      "\u001B[2m[\u001B[0;34m-        \u001B[0;2m] \u001B[0;2mNFC…RENTIALABUNDANCE:\u001B[mVALIDATOR -\u001B[K\r\n",
      "\u001B[2m[\u001B[0;34m-        \u001B[0;2m] \u001B[0;2mNFC…NDANCE:\u001B[mCUSTOM_MATRIXFILTER -\u001B[K\r\n",
      "\u001B[2m[\u001B[0;34m-        \u001B[0;2m] \u001B[0;2mNFC…NTIALABUNDANCE:\u001B[mDESEQ2_NORM -\u001B[K\r\n",
      "\u001B[2m[\u001B[0;34m-        \u001B[0;2m] \u001B[0;2mNFC…NDANCE:\u001B[mDESEQ2_DIFFERENTIAL -\u001B[K\r\n",
      "\u001B[2m[\u001B[0;34m-        \u001B[0;2m] \u001B[0;2mNFC…ABUNDANCE:\u001B[mFILTER_DIFFTABLE -\u001B[K\r\n",
      "\u001B[2m[\u001B[0;34m-        \u001B[0;2m] \u001B[0;2mNFC…CE:\u001B[mCUSTOM_TABULARTOGSEAGCT -\u001B[K\r\n",
      "\u001B[2m[\u001B[0;34m-        \u001B[0;2m] \u001B[0;2mNFC…CE:\u001B[mCUSTOM_TABULARTOGSEACLS -\u001B[K\r\n",
      "\u001B[2m[\u001B[0;34m-        \u001B[0;2m] \u001B[0;2mNFC…DANCE:\u001B[mTABULAR_TO_GSEA_CHIP -\u001B[K\r\n",
      "\u001B[11A\r\n",
      "\u001B[2m[\u001B[0;34m-        \u001B[0;2m] \u001B[0;2mNFC…ENTIALABUNDANCE:\u001B[mGUNZIP_GTF -\u001B[K\r\n",
      "\u001B[2m[\u001B[0;34m-        \u001B[0;2m] \u001B[0;2mNFC…TIALABUNDANCE:\u001B[mGTF_TO_TABLE -\u001B[K\r\n",
      "\u001B[2m[\u001B[0;34m-        \u001B[0;2m] \u001B[0;2mNFC…RENTIALABUNDANCE:\u001B[mVALIDATOR -\u001B[K\r\n",
      "\u001B[2m[\u001B[0;34m-        \u001B[0;2m] \u001B[0;2mNFC…NDANCE:\u001B[mCUSTOM_MATRIXFILTER -\u001B[K\r\n",
      "\u001B[2m[\u001B[0;34m-        \u001B[0;2m] \u001B[0;2mNFC…NTIALABUNDANCE:\u001B[mDESEQ2_NORM -\u001B[K\r\n",
      "\u001B[2m[\u001B[0;34m-        \u001B[0;2m] \u001B[0;2mNFC…NDANCE:\u001B[mDESEQ2_DIFFERENTIAL -\u001B[K\r\n",
      "\u001B[2m[\u001B[0;34m-        \u001B[0;2m] \u001B[0;2mNFC…ABUNDANCE:\u001B[mFILTER_DIFFTABLE -\u001B[K\r\n",
      "\u001B[2m[\u001B[0;34m-        \u001B[0;2m] \u001B[0;2mNFC…CE:\u001B[mCUSTOM_TABULARTOGSEAGCT -\u001B[K\r\n",
      "\u001B[2m[\u001B[0;34m-        \u001B[0;2m] \u001B[0;2mNFC…CE:\u001B[mCUSTOM_TABULARTOGSEACLS -\u001B[K\r\n",
      "\u001B[2m[\u001B[0;34m-        \u001B[0;2m] \u001B[0;2mNFC…DANCE:\u001B[mTABULAR_TO_GSEA_CHIP -\u001B[K\r\n",
      "\u001B[2m[\u001B[0;34m-        \u001B[0;2m] \u001B[0;2mNFC…RENTIALABUNDANCE:\u001B[mGSEA_GSEA -\u001B[K\r\n",
      "\u001B[2m[\u001B[0;34m-        \u001B[0;2m] \u001B[0;2mNFC…ABUNDANCE:\u001B[mPLOT_EXPLORATORY -\u001B[K\r\n",
      "\u001B[2m[\u001B[0;34m-        \u001B[0;2m] \u001B[0;2mNFC…BUNDANCE:\u001B[mPLOT_DIFFERENTIAL -\u001B[K\r\n",
      "\u001B[14A\r\n",
      "\u001B[2m[\u001B[0;34m-        \u001B[0;2m] \u001B[0;2mNFC…ENTIALABUNDANCE:\u001B[mGUNZIP_GTF -\u001B[K\r\n",
      "\u001B[2m[\u001B[0;34m-        \u001B[0;2m] \u001B[0;2mNFC…TIALABUNDANCE:\u001B[mGTF_TO_TABLE -\u001B[K\r\n",
      "\u001B[2m[\u001B[0;34m-        \u001B[0;2m] \u001B[0;2mNFC…RENTIALABUNDANCE:\u001B[mVALIDATOR -\u001B[K\r\n",
      "\u001B[2m[\u001B[0;34m-        \u001B[0;2m] \u001B[0;2mNFC…NDANCE:\u001B[mCUSTOM_MATRIXFILTER -\u001B[K\r\n",
      "\u001B[2m[\u001B[0;34m-        \u001B[0;2m] \u001B[0;2mNFC…NTIALABUNDANCE:\u001B[mDESEQ2_NORM -\u001B[K\r\n",
      "\u001B[2m[\u001B[0;34m-        \u001B[0;2m] \u001B[0;2mNFC…NDANCE:\u001B[mDESEQ2_DIFFERENTIAL -\u001B[K\r\n",
      "\u001B[2m[\u001B[0;34m-        \u001B[0;2m] \u001B[0;2mNFC…ABUNDANCE:\u001B[mFILTER_DIFFTABLE -\u001B[K\r\n",
      "\u001B[2m[\u001B[0;34m-        \u001B[0;2m] \u001B[0;2mNFC…CE:\u001B[mCUSTOM_TABULARTOGSEAGCT -\u001B[K\r\n",
      "\u001B[2m[\u001B[0;34m-        \u001B[0;2m] \u001B[0;2mNFC…CE:\u001B[mCUSTOM_TABULARTOGSEACLS -\u001B[K\r\n",
      "\u001B[2m[\u001B[0;34m-        \u001B[0;2m] \u001B[0;2mNFC…DANCE:\u001B[mTABULAR_TO_GSEA_CHIP -\u001B[K\r\n",
      "\u001B[2m[\u001B[0;34m-        \u001B[0;2m] \u001B[0;2mNFC…RENTIALABUNDANCE:\u001B[mGSEA_GSEA -\u001B[K\r\n",
      "\u001B[2m[\u001B[0;34m-        \u001B[0;2m] \u001B[0;2mNFC…ABUNDANCE:\u001B[mPLOT_EXPLORATORY -\u001B[K\r\n",
      "\u001B[2m[\u001B[0;34m-        \u001B[0;2m] \u001B[0;2mNFC…BUNDANCE:\u001B[mPLOT_DIFFERENTIAL -\u001B[K\r\n",
      "\u001B[2m[\u001B[0;34m-        \u001B[0;2m] \u001B[0;2mNFC…TIALABUNDANCE:\u001B[mSHINYNGS_APP -\u001B[K\r\n",
      "\u001B[15A\r\n",
      "\u001B[2m[\u001B[0;34m-        \u001B[0;2m] \u001B[0;2mNFC…ENTIALABUNDANCE:\u001B[mGUNZIP_GTF -\u001B[K\r\n",
      "\u001B[2m[\u001B[0;34m-        \u001B[0;2m] \u001B[0;2mNFC…TIALABUNDANCE:\u001B[mGTF_TO_TABLE -\u001B[K\r\n",
      "\u001B[2m[\u001B[0;34m-        \u001B[0;2m] \u001B[0;2mNFC…RENTIALABUNDANCE:\u001B[mVALIDATOR -\u001B[K\r\n",
      "\u001B[2m[\u001B[0;34m-        \u001B[0;2m] \u001B[0;2mNFC…NDANCE:\u001B[mCUSTOM_MATRIXFILTER -\u001B[K\r\n",
      "\u001B[2m[\u001B[0;34m-        \u001B[0;2m] \u001B[0;2mNFC…NTIALABUNDANCE:\u001B[mDESEQ2_NORM -\u001B[K\r\n",
      "\u001B[2m[\u001B[0;34m-        \u001B[0;2m] \u001B[0;2mNFC…NDANCE:\u001B[mDESEQ2_DIFFERENTIAL -\u001B[K\r\n",
      "\u001B[2m[\u001B[0;34m-        \u001B[0;2m] \u001B[0;2mNFC…ABUNDANCE:\u001B[mFILTER_DIFFTABLE -\u001B[K\r\n",
      "\u001B[2m[\u001B[0;34m-        \u001B[0;2m] \u001B[0;2mNFC…CE:\u001B[mCUSTOM_TABULARTOGSEAGCT -\u001B[K\r\n",
      "\u001B[2m[\u001B[0;34m-        \u001B[0;2m] \u001B[0;2mNFC…CE:\u001B[mCUSTOM_TABULARTOGSEACLS -\u001B[K\r\n",
      "\u001B[2m[\u001B[0;34m-        \u001B[0;2m] \u001B[0;2mNFC…DANCE:\u001B[mTABULAR_TO_GSEA_CHIP -\u001B[K\r\n",
      "\u001B[2m[\u001B[0;34m-        \u001B[0;2m] \u001B[0;2mNFC…RENTIALABUNDANCE:\u001B[mGSEA_GSEA -\u001B[K\r\n",
      "\u001B[2m[\u001B[0;34m-        \u001B[0;2m] \u001B[0;2mNFC…ABUNDANCE:\u001B[mPLOT_EXPLORATORY -\u001B[K\r\n",
      "\u001B[2m[\u001B[0;34m-        \u001B[0;2m] \u001B[0;2mNFC…BUNDANCE:\u001B[mPLOT_DIFFERENTIAL -\u001B[K\r\n",
      "\u001B[2m[\u001B[0;34m-        \u001B[0;2m] \u001B[0;2mNFC…TIALABUNDANCE:\u001B[mSHINYNGS_APP -\u001B[K\r\n",
      "\u001B[2m[\u001B[0;34m-        \u001B[0;2m] \u001B[0;2mNFC…BUNDANCE:\u001B[mRMARKDOWNNOTEBOOK -\u001B[K\r\n",
      "\u001B[2m[\u001B[0;34m-        \u001B[0;2m] \u001B[0;2mNFC…UNDANCE:\u001B[mMAKE_REPORT_BUNDLE -\u001B[K\r\n",
      "\u001B[17A\r\n",
      "\u001B[2m[\u001B[0;34m-        \u001B[0;2m] \u001B[0;2mNFC…ENTIALABUNDANCE:\u001B[mGUNZIP_GTF -\u001B[K\r\n",
      "\u001B[2m[\u001B[0;34m-        \u001B[0;2m] \u001B[0;2mNFC…TIALABUNDANCE:\u001B[mGTF_TO_TABLE -\u001B[K\r\n",
      "\u001B[2m[\u001B[0;34m-        \u001B[0;2m] \u001B[0;2mNFC…RENTIALABUNDANCE:\u001B[mVALIDATOR -\u001B[K\r\n",
      "\u001B[2m[\u001B[0;34m-        \u001B[0;2m] \u001B[0;2mNFC…NDANCE:\u001B[mCUSTOM_MATRIXFILTER -\u001B[K\r\n",
      "\u001B[2m[\u001B[0;34m-        \u001B[0;2m] \u001B[0;2mNFC…NTIALABUNDANCE:\u001B[mDESEQ2_NORM -\u001B[K\r\n",
      "\u001B[2m[\u001B[0;34m-        \u001B[0;2m] \u001B[0;2mNFC…NDANCE:\u001B[mDESEQ2_DIFFERENTIAL -\u001B[K\r\n",
      "\u001B[2m[\u001B[0;34m-        \u001B[0;2m] \u001B[0;2mNFC…ABUNDANCE:\u001B[mFILTER_DIFFTABLE -\u001B[K\r\n",
      "\u001B[2m[\u001B[0;34m-        \u001B[0;2m] \u001B[0;2mNFC…CE:\u001B[mCUSTOM_TABULARTOGSEAGCT -\u001B[K\r\n",
      "\u001B[2m[\u001B[0;34m-        \u001B[0;2m] \u001B[0;2mNFC…CE:\u001B[mCUSTOM_TABULARTOGSEACLS -\u001B[K\r\n",
      "\u001B[2m[\u001B[0;34m-        \u001B[0;2m] \u001B[0;2mNFC…DANCE:\u001B[mTABULAR_TO_GSEA_CHIP -\u001B[K\r\n",
      "\u001B[2m[\u001B[0;34m-        \u001B[0;2m] \u001B[0;2mNFC…RENTIALABUNDANCE:\u001B[mGSEA_GSEA -\u001B[K\r\n",
      "\u001B[2m[\u001B[0;34m-        \u001B[0;2m] \u001B[0;2mNFC…ABUNDANCE:\u001B[mPLOT_EXPLORATORY -\u001B[K\r\n",
      "\u001B[2m[\u001B[0;34m-        \u001B[0;2m] \u001B[0;2mNFC…BUNDANCE:\u001B[mPLOT_DIFFERENTIAL -\u001B[K\r\n",
      "\u001B[2m[\u001B[0;34m-        \u001B[0;2m] \u001B[0;2mNFC…TIALABUNDANCE:\u001B[mSHINYNGS_APP -\u001B[K\r\n",
      "\u001B[2m[\u001B[0;34m-        \u001B[0;2m] \u001B[0;2mNFC…BUNDANCE:\u001B[mRMARKDOWNNOTEBOOK -\u001B[K\r\n",
      "\u001B[2m[\u001B[0;34m-        \u001B[0;2m] \u001B[0;2mNFC…UNDANCE:\u001B[mMAKE_REPORT_BUNDLE -\u001B[K\r\n",
      "Staging foreign file: https://ftp.ensembl.org/pub/release-81/gtf/mus_musculus/Mus_musculus.GRCm38.81.gtf.gz\u001B[K\r\n",
      "\r\n"
     ]
    }
   ],
   "source": [
    "# run the pipeline in the test profile using docker containers\n",
    "# make sure to specify the version you want to use (use the latest one)\n",
    "\n",
    "!nextflow run nf-core/differentialabundance -r 1.5.0 -profile test,docker --outdir day01_results_2"
   ]
  },
  {
   "cell_type": "code",
   "execution_count": null,
   "metadata": {
    "is_executing": true
   },
   "outputs": [],
   "source": [
    "# repeat the run. What did change?\n",
    "!nextflow run nf-core/differentialabundance -r 1.5.0 -profile test,docker --outdir day01_results"
   ]
  },
  {
   "cell_type": "code",
   "execution_count": null,
   "metadata": {},
   "outputs": [],
   "source": [
    "# now set -resume to the command. What did change?\n",
    "!nextflow run nf-core/differentialabundance -r 1.5.0 -profile test,docker --outdir day01_results -resume"
   ]
  },
  {
   "cell_type": "markdown",
   "metadata": {},
   "source": [
    "Check out the current directory. Next to the outdir you specified, what else has changed?"
   ]
  },
  {
   "cell_type": "markdown",
   "metadata": {},
   "source": [
    "A work directory was created. It contains all intermediate files and the .nextflow.log file."
   ]
  },
  {
   "cell_type": "code",
   "execution_count": null,
   "metadata": {},
   "outputs": [],
   "source": [
    "# delete the work directory and run the pipeline again using -resume. What did change?"
   ]
  },
  {
   "cell_type": "markdown",
   "metadata": {},
   "source": [
    "What changed?"
   ]
  },
  {
   "cell_type": "markdown",
   "source": [
    "Since the work directory was deleted the pipeline had to rerun all steps. "
   ],
   "metadata": {
    "collapsed": false
   }
  },
  {
   "cell_type": "markdown",
   "metadata": {},
   "source": [
    "## Lets look at the results"
   ]
  },
  {
   "cell_type": "markdown",
   "metadata": {},
   "source": [
    "### What is differential abundance analysis?"
   ]
  },
  {
   "cell_type": "markdown",
   "metadata": {},
   "source": [
    "Give the most important plots from the report:"
   ]
  },
  {
   "cell_type": "code",
   "execution_count": 29,
   "metadata": {
    "ExecuteTime": {
     "end_time": "2025-09-29T10:33:38.894689Z",
     "start_time": "2025-09-29T10:33:38.721730Z"
    }
   },
   "outputs": [
    {
     "name": "stdout",
     "output_type": "stream",
     "text": [
      "/Users/leo/PycharmProjects/Computational_Workflows/computational-workflows-2025/notebooks\n"
     ]
    }
   ],
   "source": [
    "import os\n",
    "from PIL import Image\n",
    "base_dir = os.path.dirname(os.getcwd())\n",
    "image_path = os.path.join(base_dir, 'day01_results/plots/exploratory/treatment/png/sample_dendrogram.png')\n",
    "img = Image.open(image_path)\n",
    "img.show()"
   ]
  },
  {
   "cell_type": "code",
   "execution_count": 31,
   "metadata": {
    "ExecuteTime": {
     "end_time": "2025-09-29T10:35:00.211369Z",
     "start_time": "2025-09-29T10:35:00.034759Z"
    }
   },
   "outputs": [],
   "source": [
    "import os\n",
    "from PIL import Image\n",
    "base_dir = os.path.dirname(os.getcwd())\n",
    "img_path = os.path.join(base_dir, 'day01_results/plots/exploratory/treatment/png/boxplot.png')\n",
    "img = Image.open(img_path)\n",
    "img.show()\n"
   ]
  },
  {
   "cell_type": "code",
   "outputs": [],
   "source": [],
   "metadata": {
    "collapsed": false
   }
  }
 ],
 "metadata": {
  "kernelspec": {
   "display_name": "base",
   "language": "python",
   "name": "python3"
  },
  "language_info": {
   "codemirror_mode": {
    "name": "ipython",
    "version": 3
   },
   "file_extension": ".py",
   "mimetype": "text/x-python",
   "name": "python",
   "nbconvert_exporter": "python",
   "pygments_lexer": "ipython3",
   "version": "3.13.5"
  }
 },
 "nbformat": 4,
 "nbformat_minor": 2
}
