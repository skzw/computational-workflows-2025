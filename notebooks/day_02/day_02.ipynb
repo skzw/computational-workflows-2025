{
 "cells": [
  {
   "cell_type": "markdown",
   "metadata": {},
   "source": [
    "# Day 2\n",
    "\n",
    "Today, we will start using nf-core pipelines to find differentially abundant genes in our dataset. \n",
    "We are using data from the following paper: https://www.nature.com/articles/s41593-023-01350-3#Sec10"
   ]
  },
  {
   "cell_type": "markdown",
   "metadata": {
    "vscode": {
     "languageId": "plaintext"
    }
   },
   "source": [
    "1. Please take some time to read through the paper and understand their approach, hypotheses and goals."
   ]
  },
  {
   "cell_type": "markdown",
   "metadata": {
    "vscode": {
     "languageId": "plaintext"
    }
   },
   "source": [
    "What was the objective of the study?"
   ]
  },
  {
   "cell_type": "markdown",
   "source": [
    "https://www.nature.com/articles/s41593-023-01350-3#Sec10\n",
    "The objective of the study was to investigate the effects of chronic neuropathic pain on brain function and behavior, specifically focusing on the role of the prefrontal cortex (PFC) and its neural circuits. The researchers aimed to understand how neuropathic pain alters PFC activity and connectivity, leading to cognitive and emotional impairments commonly observed in chronic pain patients. They also sought to identify potential therapeutic targets for alleviating these deficits."
   ],
   "metadata": {
    "collapsed": false
   }
  },
  {
   "cell_type": "markdown",
   "metadata": {
    "vscode": {
     "languageId": "plaintext"
    }
   },
   "source": [
    "What do the conditions mean?"
   ]
  },
  {
   "cell_type": "markdown",
   "metadata": {},
   "source": [
    "oxy: Oxycodone treatment\n",
    "sal: Saline treatment"
   ]
  },
  {
   "cell_type": "markdown",
   "metadata": {},
   "source": [
    "What do the genotypes mean?"
   ]
  },
  {
   "cell_type": "markdown",
   "metadata": {},
   "source": [
    "SNI: Spared Nerve Injury (a model for neuropathic pain)\n",
    "Sham: Sham surgery (control group without nerve injury)"
   ]
  },
  {
   "cell_type": "markdown",
   "metadata": {},
   "source": [
    "Imagine you are the bioinformatician in the group who conducted this study. They hand you the raw files and ask you to analyze them.\n",
    "\n",
    "What would you do?\n",
    "\n",
    "Which groups would you compare to each other?\n",
    "\n",
    "Please also mention which outcome you would expect to see from each comparison.\n",
    "\n",
    "I want to compare the following groups:\n",
    "1. SNI + oxy vs. SNI + sal: To assess the effect of oxycodone treatment on neuropathic pain and its associated cognitive and emotional impairments.\n",
    "2. Sham + oxy vs. Sham + sal: To evaluate the impact of oxycodone on normal brain function and behavior in the absence of neuropathic pain.\n",
    "3. SNI + sal vs. Sham + sal: To understand the effects of neuropathic pain on brain function and behavior without any drug intervention.\n",
    "4. SNI + oxy vs. Sham + oxy: To investigate how neuropathic pain alters the response to oxycodone treatment compared to normal brain function."
   ]
  },
  {
   "cell_type": "markdown",
   "metadata": {},
   "source": [
    "Your group gave you a very suboptimal excel sheet (conditions_runs_oxy_project.xlsx) to get the information you need for each run they uploaded to the SRA.<br>\n",
    "So, instead of directly diving into downloading the data and starting the analysis, you first need to sort the lazy table.<br>\n",
    "Use Python and Pandas to get the table into a more sensible order.<br>\n",
    "Then, perform some overview analysis and plot the results\n",
    "1. How many samples do you have per condition?\n",
    "2. How many samples do you have per genotype?\n",
    "3. How often do you have each condition per genotype?"
   ]
  },
  {
   "cell_type": "code",
   "execution_count": 79,
   "metadata": {
    "ExecuteTime": {
     "end_time": "2025-09-30T09:08:36.463471Z",
     "start_time": "2025-09-30T09:08:36.441688Z"
    }
   },
   "outputs": [
    {
     "name": "stdout",
     "output_type": "stream",
     "text": [
      "            Run RNA-seq DNA-seq Condition: Sal Condition: Oxy Genotype: SNI  \\\n",
      "0   SRR23195505       1       0              1              0             1   \n",
      "1   SRR23195506       1       0              0              1             0   \n",
      "2   SRR23195507       1       0              1              0             0   \n",
      "3   SRR23195508       1       0              0              1             1   \n",
      "4   SRR23195509       1       0              0              1             1   \n",
      "5   SRR23195510       1       0              1              0             1   \n",
      "6   SRR23195511       1       0              0              1             0   \n",
      "7   SRR23195512       1       0              1              0             0   \n",
      "8   SRR23195513       1       0              1              0             1   \n",
      "9   SRR23195514       1       0              0              1             0   \n",
      "10  SRR23195515       1       0              1              0             0   \n",
      "11  SRR23195516       1       0              0              1             1   \n",
      "12  SRR23195517       1       0              0              1             1   \n",
      "13  SRR23195518       1       0              1              0             1   \n",
      "14  SRR23195519       1       0              0              1             0   \n",
      "15  SRR23195520       1       0              1              0             0   \n",
      "\n",
      "   Genotype: Sham  \n",
      "0               0  \n",
      "1               1  \n",
      "2               1  \n",
      "3               0  \n",
      "4               0  \n",
      "5               0  \n",
      "6               1  \n",
      "7               1  \n",
      "8               0  \n",
      "9               1  \n",
      "10              1  \n",
      "11              0  \n",
      "12              0  \n",
      "13              0  \n",
      "14              1  \n",
      "15              1  \n"
     ]
    }
   ],
   "source": [
    "import pandas as pd\n",
    "pd.set_option('future.no_silent_downcasting', True)\n",
    "df = pd.read_excel(\"conditions_runs_oxy_project.xlsx\")\n",
    "df = df.drop(columns=[\"Patient\"])\n",
    "df = df.replace(\"x\", 1)\n",
    "df = df.fillna(0)\n",
    "df[\"DNA-seq\"] = df[\"DNA-seq\"].astype(object)\n",
    "df = df.replace(0.0, 0)\n",
    "df = df.rename(columns={\"condition: Sal\": \"Condition: Sal\"})\n",
    "print(df)\n",
    "df.to_csv(\"conditions_runs_oxy_project.csv\", index=False)\n",
    "\n",
    "\n",
    "\n",
    "\n",
    "\n"
   ]
  },
  {
   "cell_type": "code",
   "execution_count": null,
   "metadata": {},
   "outputs": [],
   "source": []
  },
  {
   "cell_type": "code",
   "execution_count": null,
   "metadata": {},
   "outputs": [],
   "source": []
  },
  {
   "cell_type": "markdown",
   "metadata": {},
   "source": [
    "They were so kind to also provide you with the information of the number of bases per run, so that you can know how much space the data will take on your Cluster.<br>\n",
    "Add a new column to your fancy table with this information (base_counts.csv) and sort your dataframe according to this information and the condition.\n",
    "\n",
    "Then select the 2 smallest runs from your dataset and download them from SRA (maybe an nf-core pipeline can help here?...)"
   ]
  },
  {
   "cell_type": "code",
   "execution_count": 91,
   "metadata": {
    "ExecuteTime": {
     "end_time": "2025-09-30T11:55:30.745114Z",
     "start_time": "2025-09-30T11:55:30.720320Z"
    }
   },
   "outputs": [
    {
     "name": "stdout",
     "output_type": "stream",
     "text": [
      "           Run       Bases\n",
      "0  SRR23195505  6922564500\n",
      "1  SRR23195506  7859530800\n",
      "2  SRR23195507  8063298900\n",
      "3  SRR23195508  6927786900\n",
      "4  SRR23195509  7003550100\n",
      "           Run  RNA-seq  DNA-seq  Condition: Sal  Condition: Oxy  \\\n",
      "0  SRR23195505        1        0               1               0   \n",
      "1  SRR23195506        1        0               0               1   \n",
      "2  SRR23195507        1        0               1               0   \n",
      "3  SRR23195508        1        0               0               1   \n",
      "4  SRR23195509        1        0               0               1   \n",
      "\n",
      "   Genotype: SNI  Genotype: Sham  \n",
      "0              1               0  \n",
      "1              0               1  \n",
      "2              0               1  \n",
      "3              1               0  \n",
      "4              1               0  \n",
      "            Run  RNA-seq  DNA-seq  Condition: Sal  Condition: Oxy  \\\n",
      "11  SRR23195516        1        0               0               1   \n",
      "6   SRR23195511        1        0               0               1   \n",
      "12  SRR23195517        1        0               0               1   \n",
      "0   SRR23195505        1        0               1               0   \n",
      "3   SRR23195508        1        0               0               1   \n",
      "\n",
      "    Genotype: SNI  Genotype: Sham       Bases  \n",
      "11              1               0  6203117700  \n",
      "6               0               1  6456390900  \n",
      "12              1               0  6863840400  \n",
      "0               1               0  6922564500  \n",
      "3               1               0  6927786900  \n",
      "            Run  RNA-seq  DNA-seq  Condition: Sal  Condition: Oxy  \\\n",
      "11  SRR23195516        1        0               0               1   \n",
      "6   SRR23195511        1        0               0               1   \n",
      "\n",
      "    Genotype: SNI  Genotype: Sham       Bases  \n",
      "11              1               0  6203117700  \n",
      "6               0               1  6456390900  \n"
     ]
    }
   ],
   "source": [
    "import pandas as pd\n",
    "\n",
    "bases_per_run_csv = \"base_counts.csv\"\n",
    "bases_df = pd.read_csv(bases_per_run_csv)\n",
    "print(bases_df.head())\n",
    "\n",
    "conditions_runs_csv = \"conditions_runs_oxy_project.csv\"\n",
    "conditions_runs_df = pd.read_csv(conditions_runs_csv)\n",
    "print(conditions_runs_df.head())\n",
    "\n",
    "merged_df = pd.merge(conditions_runs_df, bases_df, on=\"Run\")\n",
    "sorted_df = merged_df.sort_values(by=[\"Bases\", \"Condition: Oxy\"])\n",
    "sorted_df.to_csv(\"sorted_conditions_runs_oxy_project.csv\", index=False)\n",
    "print(sorted_df.head())\n",
    "smallest_runs_df = sorted_df.head(2)\n",
    "print(smallest_runs_df)\n",
    "smallest_runs_df.to_csv(\"ids_own_implementation.csv\", index=False, columns=[\"Run\"])\n",
    "\n",
    "\n",
    "\n",
    "\n"
   ]
  },
  {
   "cell_type": "code",
   "execution_count": 86,
   "metadata": {
    "ExecuteTime": {
     "end_time": "2025-09-30T11:47:31.917546Z",
     "start_time": "2025-09-30T11:28:56.450695Z"
    }
   },
   "outputs": [
    {
     "name": "stdout",
     "output_type": "stream",
     "text": [
      "\u001B[33mNextflow 25.04.7 is available - Please consider updating your version to it\u001B[m\r\n",
      "\r\n",
      "\u001B[1m\u001B[38;5;232m\u001B[48;5;43m N E X T F L O W \u001B[0;2m  ~  \u001B[mversion 24.10.5\u001B[m\r\n",
      "\u001B[K\r\n",
      "Launching\u001B[35m `https://github.com/nf-core/fetchngs` \u001B[0;2m[\u001B[0;1;36magitated_golick\u001B[0;2m] DSL2 - \u001B[36mrevision: \u001B[0;36m8ec2d934f9 [master]\u001B[m\r\n",
      "\u001B[K\r\n",
      "\u001B[33mWARN: Access to undefined parameter `monochromeLogs` -- Initialise it to a default value eg. `params.monochromeLogs = some_value`\u001B[39m\u001B[K\r\n",
      "\r\n",
      "\r\n",
      "-\u001B[2m----------------------------------------------------\u001B[0m-\r\n",
      "                                        \u001B[0;32m,--.\u001B[0;30m/\u001B[0;32m,-.\u001B[0m\r\n",
      "\u001B[0;34m        ___     __   __   __   ___     \u001B[0;32m/,-._.--~'\u001B[0m\r\n",
      "\u001B[0;34m  |\\ | |__  __ /  ` /  \\ |__) |__         \u001B[0;33m}  {\u001B[0m\r\n",
      "\u001B[0;34m  | \\| |       \\__, \\__/ |  \\ |___     \u001B[0;32m\\`-._,-`-,\u001B[0m\r\n",
      "                                        \u001B[0;32m`._,._,'\u001B[0m\r\n",
      "\u001B[0;35m  nf-core/fetchngs v1.12.0-g8ec2d93\u001B[0m\r\n",
      "-\u001B[2m----------------------------------------------------\u001B[0m-\r\n",
      "\u001B[1mCore Nextflow options\u001B[0m\r\n",
      "  \u001B[0;34mrevision       : \u001B[0;32mmaster\u001B[0m\r\n",
      "  \u001B[0;34mrunName        : \u001B[0;32magitated_golick\u001B[0m\r\n",
      "  \u001B[0;34mcontainerEngine: \u001B[0;32mdocker\u001B[0m\r\n",
      "  \u001B[0;34mlaunchDir      : \u001B[0;32m/Users/leo/PycharmProjects/Computational_Workflows/computational-workflows-2025/notebooks/day_02\u001B[0m\r\n",
      "  \u001B[0;34mworkDir        : \u001B[0;32m/Users/leo/PycharmProjects/Computational_Workflows/computational-workflows-2025/notebooks/day_02/work\u001B[0m\r\n",
      "  \u001B[0;34mprojectDir     : \u001B[0;32m/Users/leo/.nextflow/assets/nf-core/fetchngs\u001B[0m\r\n",
      "  \u001B[0;34muserName       : \u001B[0;32mleo\u001B[0m\r\n",
      "  \u001B[0;34mprofile        : \u001B[0;32mdocker\u001B[0m\r\n",
      "  \u001B[0;34mconfigFiles    : \u001B[0;32m\u001B[0m\r\n",
      "\r\n",
      "\u001B[1mInput/output options\u001B[0m\r\n",
      "  \u001B[0;34minput          : \u001B[0;32mids.csv\u001B[0m\r\n",
      "  \u001B[0;34moutdir         : \u001B[0;32mfetchings\u001B[0m\r\n",
      "\r\n",
      "\u001B[1mMax job request options\u001B[0m\r\n",
      "  \u001B[0;34mmax_memory     : \u001B[0;32m4GB\u001B[0m\r\n",
      "\r\n",
      "!! Only displaying parameters that differ from the pipeline defaults !!\r\n",
      "-\u001B[2m----------------------------------------------------\u001B[0m-\r\n",
      "If you use nf-core/fetchngs for your analysis please cite:\r\n",
      "\r\n",
      "* The pipeline\r\n",
      "  https://doi.org/10.5281/zenodo.5070524\r\n",
      "\r\n",
      "* The nf-core framework\r\n",
      "  https://doi.org/10.1038/s41587-020-0439-x\r\n",
      "\r\n",
      "* Software dependencies\r\n",
      "  https://github.com/nf-core/fetchngs/blob/master/CITATIONS.md\r\n",
      "-\u001B[2m----------------------------------------------------\u001B[0m-\r\n",
      "\u001B[2m[\u001B[0;34m-        \u001B[0;2m] \u001B[0;2mNFC…NGS:SRA:\u001B[mSRA_IDS_TO_RUNINFO -\u001B[K\r\n",
      "\u001B[2A\r\n",
      "\u001B[2m[\u001B[0;34m-        \u001B[0;2m] \u001B[0;2mNFC…NGS:SRA:\u001B[mSRA_IDS_TO_RUNINFO -\u001B[K\r\n",
      "\u001B[2m[\u001B[0;34m-        \u001B[0;2m] \u001B[0;2mNFC…NGS:SRA:\u001B[mSRA_RUNINFO_TO_FTP -\u001B[K\r\n",
      "\u001B[2m[\u001B[0;34m-        \u001B[0;2m] \u001B[0;2mNFC…FETCHNGS:SRA:\u001B[mSRA_FASTQ_FTP -\u001B[K\r\n",
      "\u001B[2m[\u001B[0;34m-        \u001B[0;2m] \u001B[0;2m\u001B[mNFC…USTOM_SRATOOLSNCBISETTINGS -\u001B[K\r\n",
      "\u001B[2m[\u001B[0;34m-        \u001B[0;2m] \u001B[0;2mNFC…SRATOOLS:\u001B[mSRATOOLS_PREFETCH -\u001B[K\r\n",
      "\u001B[2m[\u001B[0;34m-        \u001B[0;2m] \u001B[0;2mNFC…TOOLS:\u001B[mSRATOOLS_FASTERQDUMP -\u001B[K\r\n",
      "\u001B[2m[\u001B[0;34m-        \u001B[0;2m] \u001B[0;2mNFCORE_FETCHNGS:SRA:\u001B[mASPERA_CLI -\u001B[K\r\n",
      "\u001B[2m[\u001B[0;34m-        \u001B[0;2m] \u001B[0;2mNFC…NGS:SRA:\u001B[mSRA_TO_SAMPLESHEET -\u001B[K\r\n",
      "\u001B[2m[\u001B[0;34m-        \u001B[0;2m] \u001B[0;2mNFC…RA:\u001B[mMULTIQC_MAPPINGS_CONFIG -\u001B[K\r\n",
      "\u001B[10A\r\n",
      "\u001B[2m[\u001B[0;34m6e/544ebf\u001B[0;2m] \u001B[0;2m\u001B[mNFC…S_TO_RUNINFO\u001B[33;2m (\u001B[0;33mSRR23195511\u001B[2m)\u001B[m\u001B[2m |\u001B[m 2 of 2\u001B[2m, cached: 2\u001B[m\u001B[K\r\n",
      "\u001B[2m[\u001B[0;34m-        \u001B[0;2m] \u001B[0;2mNFC…NGS:SRA:\u001B[mSRA_RUNINFO_TO_FTP -\u001B[K\r\n",
      "\u001B[2m[\u001B[0;34m-        \u001B[0;2m] \u001B[0;2mNFC…FETCHNGS:SRA:\u001B[mSRA_FASTQ_FTP -\u001B[K\r\n",
      "\u001B[2m[\u001B[0;34m-        \u001B[0;2m] \u001B[0;2m\u001B[mNFC…USTOM_SRATOOLSNCBISETTINGS -\u001B[K\r\n",
      "\u001B[2m[\u001B[0;34m-        \u001B[0;2m] \u001B[0;2mNFC…SRATOOLS:\u001B[mSRATOOLS_PREFETCH -\u001B[K\r\n",
      "\u001B[2m[\u001B[0;34m-        \u001B[0;2m] \u001B[0;2mNFC…TOOLS:\u001B[mSRATOOLS_FASTERQDUMP -\u001B[K\r\n",
      "\u001B[2m[\u001B[0;34m-        \u001B[0;2m] \u001B[0;2mNFCORE_FETCHNGS:SRA:\u001B[mASPERA_CLI -\u001B[K\r\n",
      "\u001B[2m[\u001B[0;34m-        \u001B[0;2m] \u001B[0;2mNFC…NGS:SRA:\u001B[mSRA_TO_SAMPLESHEET -\u001B[K\r\n",
      "\u001B[2m[\u001B[0;34m-        \u001B[0;2m] \u001B[0;2mNFC…RA:\u001B[mMULTIQC_MAPPINGS_CONFIG -\u001B[K\r\n",
      "\u001B[10A\r\n",
      "\u001B[2mexecutor >  local (2)\u001B[m\u001B[K\r\n",
      "\u001B[2m[\u001B[0;34m6e/544ebf\u001B[0;2m] \u001B[0;2m\u001B[mNFC…S_TO_RUNINFO\u001B[33;2m (\u001B[0;33mSRR23195511\u001B[2m)\u001B[m\u001B[2m |\u001B[m 2 of 2\u001B[2m, cached: 2\u001B[0;32m ✔\u001B[m\u001B[K\r\n",
      "\u001B[2m[\u001B[0;34m14/939038\u001B[0;2m] \u001B[0;2mNFC…SRA:\u001B[mSRA_RUNINFO_TO_FTP\u001B[33;2m (\u001B[0;33m2\u001B[2m)\u001B[m\u001B[2m |\u001B[m 2 of 2\u001B[2m, cached: 2\u001B[0;32m ✔\u001B[m\u001B[K\r\n",
      "\u001B[2m[\u001B[0;34m02/6ddfb8\u001B[0;2m] \u001B[0;2m\u001B[mNFC…\u001B[33;2m (\u001B[0;33mSRX19144488_SRR23195511\u001B[2m)\u001B[m\u001B[2m |\u001B[m 0 of 2\u001B[K\r\n",
      "\u001B[2m[\u001B[0;34m-        \u001B[0;2m] \u001B[0;2m\u001B[mNFC…USTOM_SRATOOLSNCBISETTINGS -\u001B[K\r\n",
      "\u001B[2m[\u001B[0;34m-        \u001B[0;2m] \u001B[0;2mNFC…SRATOOLS:\u001B[mSRATOOLS_PREFETCH -\u001B[K\r\n",
      "\u001B[2m[\u001B[0;34m-        \u001B[0;2m] \u001B[0;2mNFC…TOOLS:\u001B[mSRATOOLS_FASTERQDUMP -\u001B[K\r\n",
      "\u001B[2m[\u001B[0;34m-        \u001B[0;2m] \u001B[0;2mNFCORE_FETCHNGS:SRA:\u001B[mASPERA_CLI -\u001B[K\r\n",
      "\u001B[2m[\u001B[0;34m-        \u001B[0;2m] \u001B[0;2mNFC…NGS:SRA:\u001B[mSRA_TO_SAMPLESHEET -\u001B[K\r\n",
      "\u001B[2m[\u001B[0;34m-        \u001B[0;2m] \u001B[0;2mNFC…RA:\u001B[mMULTIQC_MAPPINGS_CONFIG -\u001B[K\r\n",
      "\u001B[11A\r\n",
      "\u001B[2mexecutor >  local (2)\u001B[m\u001B[K\r\n",
      "\u001B[2m[\u001B[0;34m6e/544ebf\u001B[0;2m] \u001B[0;2m\u001B[mNFC…S_TO_RUNINFO\u001B[33;2m (\u001B[0;33mSRR23195511\u001B[2m)\u001B[m\u001B[2m |\u001B[m 2 of 2\u001B[2m, cached: 2\u001B[0;32m ✔\u001B[m\u001B[K\r\n",
      "\u001B[2m[\u001B[0;34m14/939038\u001B[0;2m] \u001B[0;2mNFC…SRA:\u001B[mSRA_RUNINFO_TO_FTP\u001B[33;2m (\u001B[0;33m2\u001B[2m)\u001B[m\u001B[2m |\u001B[m 2 of 2\u001B[2m, cached: 2\u001B[0;32m ✔\u001B[m\u001B[K\r\n",
      "\u001B[2m[\u001B[0;34m02/6ddfb8\u001B[0;2m] \u001B[0;2m\u001B[mNFC…\u001B[33;2m (\u001B[0;33mSRX19144488_SRR23195511\u001B[2m)\u001B[m\u001B[2m |\u001B[m 0 of 2\u001B[K\r\n",
      "\u001B[2m[\u001B[0;34m-        \u001B[0;2m] \u001B[0;2m\u001B[mNFC…USTOM_SRATOOLSNCBISETTINGS -\u001B[K\r\n",
      "\u001B[2m[\u001B[0;34m-        \u001B[0;2m] \u001B[0;2mNFC…SRATOOLS:\u001B[mSRATOOLS_PREFETCH -\u001B[K\r\n",
      "\u001B[2m[\u001B[0;34m-        \u001B[0;2m] \u001B[0;2mNFC…TOOLS:\u001B[mSRATOOLS_FASTERQDUMP -\u001B[K\r\n",
      "\u001B[2m[\u001B[0;34m-        \u001B[0;2m] \u001B[0;2mNFCORE_FETCHNGS:SRA:\u001B[mASPERA_CLI -\u001B[K\r\n",
      "\u001B[2m[\u001B[0;34m-        \u001B[0;2m] \u001B[0;2mNFC…NGS:SRA:\u001B[mSRA_TO_SAMPLESHEET -\u001B[K\r\n",
      "\u001B[2m[\u001B[0;34m-        \u001B[0;2m] \u001B[0;2mNFC…RA:\u001B[mMULTIQC_MAPPINGS_CONFIG -\u001B[K\r\n"
     ]
    }
   ],
   "source": [
    "!nextflow run nf-core/fetchngs --input ids.csv -profile docker --max_memory \"4GB\" --outdir fetchings -resume"
   ]
  },
  {
   "cell_type": "code",
   "execution_count": 85,
   "metadata": {
    "ExecuteTime": {
     "end_time": "2025-09-30T11:22:28.931327Z",
     "start_time": "2025-09-30T11:22:28.912923Z"
    }
   },
   "outputs": [],
   "source": []
  },
  {
   "cell_type": "markdown",
   "metadata": {},
   "source": [
    "While your files are downloading, get back to the paper and explain how you would try to reproduce the analysis.<br>\n",
    "When you are done with this shout, so we can discuss the different ideas."
   ]
  }
 ],
 "metadata": {
  "kernelspec": {
   "display_name": "work",
   "language": "python",
   "name": "python3"
  },
  "language_info": {
   "name": "python",
   "version": "3.10.13"
  }
 },
 "nbformat": 4,
 "nbformat_minor": 2
}
