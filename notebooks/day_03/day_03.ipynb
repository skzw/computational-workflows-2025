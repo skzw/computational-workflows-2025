{
 "cells": [
  {
   "cell_type": "markdown",
   "metadata": {},
   "source": [
    "# Differential expression analysis\n"
   ]
  },
  {
   "cell_type": "markdown",
   "metadata": {},
   "source": [
    "You have run the nf-core/rnaseq pipeline and checked the first quality control metrics of your fastq files. This was, however, only the primary analysis and we want to take it further.\n",
    "\n",
    "Due to the computational demand of the pipeline, you only ran the pipeline on two of the 16 samples in the study yesterday. We provide you an essential output of nf-core/rnaseq pipeline in the `data` folder: It contains the combined epression matrix as produced by Salmon, which provides transcript levels for each gene (rows) and each sample (columns).\n"
   ]
  },
  {
   "cell_type": "markdown",
   "metadata": {},
   "source": [
    "We would now like to understand exactly the difference between the expression in our groups of mice. \n",
    "Which pipeline would you use for this?"
   ]
  },
  {
   "cell_type": "markdown",
   "metadata": {
    "vscode": {
     "languageId": "shellscript"
    }
   },
   "source": [
    "I would use the nf-core/differentialabundance pipeline, which is designed for differential expression analysis of RNA-seq data. This pipeline can handle the output from nf-core/rnaseq and perform statistical analysis to identify differentially expressed genes between different conditions or groups."
   ]
  },
  {
   "cell_type": "markdown",
   "metadata": {},
   "source": [
    "Have a close look at the pipeline's \"Usage\" page on the [nf-core docs](nf-co.re). You will need to create a samplesheet (based on the column names in the provided matrix)."
   ]
  },
  {
   "cell_type": "markdown",
   "source": [
    "! nf-core pipelines launch nf-core/differentialabundance -r 1.5.0"
   ],
   "metadata": {
    "collapsed": false
   }
  },
  {
   "cell_type": "markdown",
   "metadata": {},
   "source": [
    "Please paste here the command you used. You may need to inspect the provided expression matrix more closely and create additional files, like a samplesheet (based on the column names) or a contrast file (there happens to also be one in `data/` that you can use)."
   ]
  },
  {
   "cell_type": "markdown",
   "source": [
    "nextflow run nf-core/differentialabundance -r 1.5.0 \\\n",
    "   --input samplesheet.csv \\\n",
    "   --contrasts data/contrasts.csv \\\n",
    "   --matrix data/salmon.merged.gene_counts.tsv \\\n",
    "   --genome GRCm38 \\\n",
    "   --outdir results_differential \\\n",
    "   -profile docker -resume\n",
    "   \n",
    "maybe exclude genome\n",
    "\n"
   ],
   "metadata": {
    "collapsed": false
   }
  },
  {
   "cell_type": "markdown",
   "metadata": {},
   "source": [
    "Explain all the parameters you set and why you set them in this way. If you used or created additional files as input, explain what they are used for."
   ]
  },
  {
   "cell_type": "markdown",
   "source": [],
   "metadata": {
    "collapsed": false
   }
  },
  {
   "cell_type": "markdown",
   "metadata": {},
   "source": [
    "I created a samplesheet.csv file based on the column names in the provided expression matrix. The samplesheet contains information about the samples, including their IDs and conditions. I also used the provided contrasts file located in the data/ directory to specify the comparisons I wanted to make between different groups of samples. The genome was set to the mouse genome. The output directory (results_differential) was specified to store the results of the differential expression analysis. I used the -profile docker option to run the pipeline using Docker for containerization.\n"
   ]
  },
  {
   "cell_type": "markdown",
   "metadata": {},
   "source": [
    "What were the outputs of the pipeline?"
   ]
  },
  {
   "cell_type": "markdown",
   "source": [
    "The pipeline outputs a variety of files, including:\n",
    "- Differential expression results: These files contain information about the differentially expressed genes, including log fold changes, p-values, and adjusted p-values for each gene.\n",
    "- Quality control reports: These reports provide information about the quality of the input data and the results of the analysis.\n",
    "- Visualizations: The pipeline generates various plots and visualizations to help interpret the results, such as MA plots, volcano plots, and heatmaps.\n",
    "- Summary statistics: These files provide summary statistics about the analysis, such as the number of differentially expressed genes and the distribution of expression levels across samples.\n",
    "- Log files: These files contain detailed information about the execution of the pipeline, including any errors or warnings that occurred during the analysis."
   ],
   "metadata": {
    "collapsed": false
   }
  },
  {
   "cell_type": "markdown",
   "metadata": {},
   "source": [
    "Would you exclude any samples? If yes, which and why?"
   ]
  },
  {
   "cell_type": "markdown",
   "metadata": {},
   "source": [
    "No. "
   ]
  },
  {
   "cell_type": "markdown",
   "metadata": {},
   "source": [
    "How many genes were differentially expressed in each contrast? Does this confirm what the paper mentions?"
   ]
  },
  {
   "cell_type": "code",
   "outputs": [
    {
     "name": "stdout",
     "output_type": "stream",
     "text": [
      "Number of DE genes in condition_control_treated: 15\n",
      "Number of DE genes in condition_control_treated_test: 2\n",
      "Number of DE genes in both (overlap): 0\n",
      "Unique to condition_control_treated: 15\n",
      "Unique to condition_control_treated_test: 2\n"
     ]
    }
   ],
   "source": [
    "import pandas as pd\n",
    "\n",
    "# Load both contrasts\n",
    "res1 = pd.read_csv(\"results_differential/tables/differential/condition_control_treated.deseq2.results.tsv\", sep=\"\\t\")\n",
    "res2 = pd.read_csv(\"results_differential/tables/differential/condition_control_treated_test.deseq2.results.tsv\", sep=\"\\t\")\n",
    "\n",
    "# Define DE genes (padj < 0.05, |log2FC| > 2)\n",
    "set1 = set(res1.loc[(res1['padj'] < 0.05) & (res1['log2FoldChange'].abs() > 2), 'gene_id'])\n",
    "set2 = set(res2.loc[(res2['padj'] < 0.05) & (res2['log2FoldChange'].abs() > 2), 'gene_id'])\n",
    "\n",
    "# Print counts\n",
    "print(\"Number of DE genes in condition_control_treated:\", len(set1))\n",
    "print(\"Number of DE genes in condition_control_treated_test:\", len(set2))\n",
    "print(\"Number of DE genes in both (overlap):\", len(set1 & set2))\n",
    "print(\"Unique to condition_control_treated:\", len(set1 - set2))\n",
    "print(\"Unique to condition_control_treated_test:\", len(set2 - set1))\n"
   ],
   "metadata": {
    "collapsed": false,
    "ExecuteTime": {
     "end_time": "2025-10-01T12:44:31.257814Z",
     "start_time": "2025-10-01T12:44:31.150193Z"
    }
   },
   "execution_count": 11
  },
  {
   "cell_type": "markdown",
   "metadata": {},
   "source": [
    "The paper mentions differentially expressed genes in three brain regions : the NAc, mPFC and VTA. Briefly explain what these 3 regions are."
   ]
  },
  {
   "cell_type": "markdown",
   "metadata": {},
   "source": [
    "NAc (Nucleus Accumbens): The NAc is a key region in the brain's reward circuitry. It plays a crucial role in processing rewarding stimuli, motivation, and reinforcement learning. It is involved in the release of dopamine, a neurotransmitter associated with pleasure and reward.\n",
    "mPFC (medial Prefrontal Cortex): The mPFC is involved in higher cognitive functions, such as decision-making, social behavior, and emotional regulation. It is responsible for executive functions, including planning, working memory, and attention. The mPFC also plays a role in processing and integrating information from various brain regions.\n",
    "VTA (Ventral Tegmental Area): The VTA is a part of the midbrain that contains dopaminergic neurons. It is a critical component of the brain's reward system and is involved in the release of dopamine in response to rewarding stimuli. The VTA plays a role in motivation, reinforcement learning, and addiction."
   ]
  },
  {
   "cell_type": "markdown",
   "metadata": {},
   "source": [
    "Is there anyway from the paper and the material and methods for us to know which genes are included in these regions?"
   ]
  },
  {
   "cell_type": "markdown",
   "metadata": {},
   "source": [
    "Supplementary Section?"
   ]
  },
  {
   "cell_type": "markdown",
   "metadata": {},
   "source": [
    "Once you have your list of differentially expressed genes, do you think just communicating those to the biologists would be sufficient? What does the publication state?\n",
    "\n",
    "No, further analysis is required."
   ]
  },
  {
   "cell_type": "markdown",
   "metadata": {},
   "source": [
    "Please reproduce the Venn Diagram from Figure 3, not taking into account the brain regions but just the contrasts mentioned.\n"
   ]
  },
  {
   "cell_type": "code",
   "outputs": [
    {
     "data": {
      "text/plain": "<Figure size 600x600 with 1 Axes>",
      "image/png": "[encoded data removed]"
     },
     "metadata": {},
     "output_type": "display_data"
    }
   ],
   "source": [
    "import pandas as pd\n",
    "from matplotlib_venn import venn2\n",
    "import matplotlib.pyplot as plt\n",
    "\n",
    "# Load results\n",
    "res1 = pd.read_csv(\"results_differential/tables/differential/condition_control_treated.deseq2.results.tsv\", sep=\"\\t\")\n",
    "res2 = pd.read_csv(\"results_differential/tables/differential/condition_control_treated_test.deseq2.results.tsv\", sep=\"\\t\")\n",
    "\n",
    "# Select significant DE genes (padj < 0.05, |log2FC| > 2)\n",
    "set1 = set(res1.loc[(res1['padj'] < 0.05) & (res1['log2FoldChange'].abs() > 2), 'gene_id'])\n",
    "set2 = set(res2.loc[(res2['padj'] < 0.05) & (res2['log2FoldChange'].abs() > 2), 'gene_id'])\n",
    "\n",
    "# Plot\n",
    "plt.figure(figsize=(6,6))\n",
    "venn2([set1, set2],\n",
    "      set_labels=(\"condition_control_treated\", \"condition_control_treated_test\"),\n",
    "      set_colors=(\"red\", \"blue\"),\n",
    "      alpha=0.6)\n",
    "\n",
    "plt.title(\"Overlap of DE genes between contrasts\")\n",
    "plt.show()"
   ],
   "metadata": {
    "collapsed": false,
    "ExecuteTime": {
     "end_time": "2025-10-01T12:41:24.759110Z",
     "start_time": "2025-10-01T12:41:24.626586Z"
    }
   },
   "execution_count": 9
  },
  {
   "cell_type": "code",
   "outputs": [],
   "source": [],
   "metadata": {
    "collapsed": false
   }
  }
 ],
 "metadata": {
  "kernelspec": {
   "display_name": "work",
   "language": "python",
   "name": "python3"
  },
  "language_info": {
   "codemirror_mode": {
    "name": "ipython",
    "version": 3
   },
   "file_extension": ".py",
   "mimetype": "text/x-python",
   "name": "python",
   "nbconvert_exporter": "python",
   "pygments_lexer": "ipython3",
   "version": "3.10.13"
  }
 },
 "nbformat": 4,
 "nbformat_minor": 2
}
